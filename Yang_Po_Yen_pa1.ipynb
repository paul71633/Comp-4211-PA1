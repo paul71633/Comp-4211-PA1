{
 "cells": [
  {
   "cell_type": "code",
   "execution_count": 1,
   "id": "cultural-hardwood",
   "metadata": {},
   "outputs": [],
   "source": [
    "import pandas as pd\n",
    "import numpy as np\n",
    "import seaborn as sns\n",
    "from sklearn.linear_model import LinearRegression, LogisticRegression, SGDClassifier\n",
    "from sklearn.model_selection import train_test_split, GridSearchCV\n",
    "from sklearn.metrics import r2_score, f1_score, accuracy_score, plot_roc_curve, roc_auc_score, plot_confusion_matrix\n",
    "import matplotlib.pyplot as plt\n",
    "from sklearn.feature_selection import chi2, SelectKBest\n",
    "from sklearn.preprocessing import StandardScaler\n",
    "from sklearn.neural_network import MLPClassifier\n",
    "from time import time"
   ]
  },
  {
   "cell_type": "code",
   "execution_count": 2,
   "id": "artificial-complex",
   "metadata": {},
   "outputs": [
    {
     "data": {
      "text/plain": [
       "<AxesSubplot:>"
      ]
     },
     "execution_count": 2,
     "metadata": {},
     "output_type": "execute_result"
    },
    {
     "data": {
      "image/png": "[encoded data removed]",
      "text/plain": [
       "<Figure size 432x288 with 2 Axes>"
      ]
     },
     "metadata": {
      "needs_background": "light"
     },
     "output_type": "display_data"
    }
   ],
   "source": [
    "train = pd.read_csv('./data/train.csv', sep=',')\n",
    "train\n",
    "train.duplicated().sum()\n",
    "train = train.drop_duplicates()\n",
    "train\n",
    "train.isna().sum()\n",
    "train[\"fixed acidity\"].fillna(train[\"fixed acidity\"].median(), inplace = True)\n",
    "train.isna().sum()\n",
    "train[\"free sulfur dioxide\"].fillna(train[\"free sulfur dioxide\"].median(), inplace = True)\n",
    "train.isna().sum()\n",
    "train[\"alcohol\"].fillna(train[\"alcohol\"].median(), inplace = True)\n",
    "train.isna().sum()\n",
    "train\n",
    "train_corr = train.iloc[:,0:10].corr()\n",
    "sns.heatmap(train_corr)"
   ]
  },
  {
   "cell_type": "code",
   "execution_count": 3,
   "id": "secondary-quest",
   "metadata": {},
   "outputs": [
    {
     "data": {
      "text/plain": [
       "fixed acidity           0\n",
       "volatile acidity        0\n",
       "citric acid             0\n",
       "residual sugar          0\n",
       "chlorides               0\n",
       "free sulfur dioxide     0\n",
       "total sulfur dioxide    0\n",
       "density                 0\n",
       "pH                      0\n",
       "alcohol                 0\n",
       "label                   0\n",
       "dtype: int64"
      ]
     },
     "execution_count": 3,
     "metadata": {},
     "output_type": "execute_result"
    }
   ],
   "source": [
    "test = pd.read_csv('./data/test.csv', sep=',')\n",
    "test\n",
    "test.duplicated().sum()\n",
    "test.isna().sum()"
   ]
  },
  {
   "cell_type": "code",
   "execution_count": 4,
   "id": "physical-kinase",
   "metadata": {},
   "outputs": [],
   "source": [
    "train_train, train_val = train_test_split(train, test_size = 0.2, random_state = 4211)"
   ]
  },
  {
   "cell_type": "code",
   "execution_count": 5,
   "id": "necessary-ecology",
   "metadata": {},
   "outputs": [
    {
     "name": "stdout",
     "output_type": "stream",
     "text": [
      "R^2 score: 0.06\n"
     ]
    }
   ],
   "source": [
    "lr = LinearRegression()\n",
    "train_fa = train_train[\"fixed acidity\"]\n",
    "val_fa = train_val[\"fixed acidity\"]\n",
    "train_fa = train_fa.values.reshape(-1,1)\n",
    "val_fa = val_fa.values.reshape(-1,1)\n",
    "train_d = train_train[\"density\"]\n",
    "val_d = train_val[\"density\"]\n",
    "lr.fit(train_fa, train_d)\n",
    "train_fa_d_pred = lr.predict(val_fa)\n",
    "print('R^2 score: %.2f' % r2_score(val_d, train_fa_d_pred))"
   ]
  },
  {
   "cell_type": "code",
   "execution_count": 6,
   "id": "equal-lottery",
   "metadata": {},
   "outputs": [
    {
     "name": "stdout",
     "output_type": "stream",
     "text": [
      "R^2 score: 0.67\n"
     ]
    }
   ],
   "source": [
    "train_rs = train_train[\"residual sugar\"]\n",
    "val_rs = train_val[\"residual sugar\"]\n",
    "train_rs = train_rs.values.reshape(-1,1)\n",
    "val_rs = val_rs.values.reshape(-1,1)\n",
    "lr.fit(train_rs, train_d)\n",
    "train_rs_d_pred = lr.predict(val_rs)\n",
    "print('R^2 score: %.2f' % r2_score(val_d, train_rs_d_pred))"
   ]
  },
  {
   "cell_type": "code",
   "execution_count": 7,
   "id": "north-cruise",
   "metadata": {},
   "outputs": [
    {
     "name": "stdout",
     "output_type": "stream",
     "text": [
      "R^2 score: 0.08\n"
     ]
    }
   ],
   "source": [
    "train_c = train_train[\"chlorides\"]\n",
    "val_c = train_val[\"chlorides\"]\n",
    "train_c = train_c.values.reshape(-1,1)\n",
    "val_c = val_c.values.reshape(-1,1)\n",
    "lr.fit(train_c, train_d)\n",
    "train_c_d_pred = lr.predict(val_c)\n",
    "print('R^2 score: %.2f' % r2_score(val_d, train_c_d_pred))"
   ]
  },
  {
   "cell_type": "code",
   "execution_count": 8,
   "id": "chubby-editor",
   "metadata": {},
   "outputs": [
    {
     "name": "stdout",
     "output_type": "stream",
     "text": [
      "R^2 score: 0.10\n"
     ]
    }
   ],
   "source": [
    "train_fsd = train_train[\"free sulfur dioxide\"]\n",
    "val_fsd = train_val[\"free sulfur dioxide\"]\n",
    "train_fsd = train_fsd.values.reshape(-1,1)\n",
    "val_fsd = val_fsd.values.reshape(-1,1)\n",
    "lr.fit(train_fsd, train_d)\n",
    "train_fsd_d_pred = lr.predict(val_fsd)\n",
    "print('R^2 score: %.2f' % r2_score(val_d, train_fsd_d_pred))"
   ]
  },
  {
   "cell_type": "code",
   "execution_count": 9,
   "id": "continued-government",
   "metadata": {},
   "outputs": [
    {
     "name": "stdout",
     "output_type": "stream",
     "text": [
      "R^2 score: 0.31\n"
     ]
    }
   ],
   "source": [
    "train_tsd = train_train[\"total sulfur dioxide\"]\n",
    "val_tsd = train_val[\"total sulfur dioxide\"]\n",
    "train_tsd = train_tsd.values.reshape(-1,1)\n",
    "val_tsd = val_tsd.values.reshape(-1,1)\n",
    "lr.fit(train_tsd, train_d)\n",
    "train_tsd_d_pred = lr.predict(val_tsd)\n",
    "print('R^2 score: %.2f' % r2_score(val_d, train_tsd_d_pred))"
   ]
  },
  {
   "cell_type": "code",
   "execution_count": 10,
   "id": "corporate-shoulder",
   "metadata": {},
   "outputs": [
    {
     "name": "stdout",
     "output_type": "stream",
     "text": [
      "R^2 score: 0.62\n"
     ]
    }
   ],
   "source": [
    "train_a = train_train[\"alcohol\"]\n",
    "val_a = train_val[\"alcohol\"]\n",
    "train_a = train_a.values.reshape(-1,1)\n",
    "val_a = val_a.values.reshape(-1,1)\n",
    "lr.fit(train_a, train_d)\n",
    "train_a_d_pred = lr.predict(val_a)\n",
    "print('R^2 score: %.2f' % r2_score(val_d, train_a_d_pred))"
   ]
  },
  {
   "cell_type": "code",
   "execution_count": 11,
   "id": "intimate-language",
   "metadata": {},
   "outputs": [
    {
     "name": "stdout",
     "output_type": "stream",
     "text": [
      "R^2 score: 0.94\n"
     ]
    }
   ],
   "source": [
    "train_all = train_train[[\"fixed acidity\", \"residual sugar\", \"chlorides\", \"free sulfur dioxide\", \"total sulfur dioxide\", \"alcohol\"]]\n",
    "val_all = train_val[[\"fixed acidity\", \"residual sugar\", \"chlorides\", \"free sulfur dioxide\", \"total sulfur dioxide\", \"alcohol\"]]\n",
    "lr.fit(train_all, train_d)\n",
    "train_all_d_pred = lr.predict(val_all)\n",
    "print('R^2 score: %.2f' % r2_score(val_d, train_all_d_pred))"
   ]
  },
  {
   "cell_type": "code",
   "execution_count": 12,
   "id": "naughty-victory",
   "metadata": {},
   "outputs": [
    {
     "data": {
      "image/png": "[encoded data removed]",
      "text/plain": [
       "<Figure size 1296x576 with 6 Axes>"
      ]
     },
     "metadata": {
      "needs_background": "light"
     },
     "output_type": "display_data"
    }
   ],
   "source": [
    "plt.figure(figsize = (18, 8))\n",
    "\n",
    "plt.subplot(321)\n",
    "plt.scatter(val_fa, val_d, color = \"blue\")\n",
    "plt.plot(val_fa, train_fa_d_pred, color = \"red\")\n",
    "plt.xlabel(\"fixed acidity\")\n",
    "plt.ylabel(\"Density\")\n",
    "plt.title(\"Density vs fixed acidity\\n(R^2 = %.2f)\" % r2_score(val_d, train_fa_d_pred))\n",
    "\n",
    "plt.subplot(322)\n",
    "plt.scatter(val_rs, val_d, color = \"blue\")\n",
    "plt.plot(val_rs, train_rs_d_pred, color = \"red\")\n",
    "plt.xlabel(\"residual sugar\")\n",
    "plt.ylabel(\"Density\")\n",
    "plt.title(\"Density vs residual sugar\\n(R^2 = %.2f)\" % r2_score(val_d, train_rs_d_pred))\n",
    "\n",
    "plt.subplot(323)\n",
    "plt.scatter(val_c, val_d, color = \"blue\")\n",
    "plt.plot(val_c, train_c_d_pred, color = \"red\")\n",
    "plt.xlabel(\"chlorides\")\n",
    "plt.ylabel(\"Density\")\n",
    "plt.title(\"Density vs chlorides\\n(R^2 = %.2f)\" % r2_score(val_d, train_c_d_pred))\n",
    "\n",
    "plt.subplot(324)\n",
    "plt.scatter(val_fsd, val_d, color = \"blue\")\n",
    "plt.plot(val_fsd, train_fsd_d_pred, color = \"red\")\n",
    "plt.xlabel(\"free sulfur dioxide\")\n",
    "plt.ylabel(\"Density\")\n",
    "plt.title(\"Density vs free sulfur dioxide\\n(R^2 = %.2f)\" % r2_score(val_d, train_fsd_d_pred))\n",
    "\n",
    "plt.subplot(325)\n",
    "plt.scatter(val_tsd, val_d, color = \"blue\")\n",
    "plt.plot(val_tsd, train_tsd_d_pred, color = \"red\")\n",
    "plt.xlabel(\"total sulfur dioxide\")\n",
    "plt.ylabel(\"Density\")\n",
    "plt.title(\"Density vs total sulfur dioxide\\n(R^2 = %.2f)\" % r2_score(val_d, train_tsd_d_pred))\n",
    "\n",
    "plt.subplot(326)\n",
    "plt.scatter(val_a, val_d, color = \"blue\")\n",
    "plt.plot(val_a, train_a_d_pred, color = \"red\")\n",
    "plt.xlabel(\"alcohol\")\n",
    "plt.ylabel(\"Density\")\n",
    "plt.title(\"Density vs alcohol\\n(R^2 = %.2f)\" % r2_score(val_d, train_a_d_pred))\n",
    "\n",
    "plt.tight_layout(pad = 3)"
   ]
  },
  {
   "cell_type": "code",
   "execution_count": 13,
   "id": "swedish-porcelain",
   "metadata": {},
   "outputs": [
    {
     "name": "stdout",
     "output_type": "stream",
     "text": [
      "fixed acidity 3.6849583885179045\n",
      "volatile acidity 2.7364663152323674\n",
      "citric acid 0.03423537530047388\n",
      "residual sugar 250.1380211749334\n",
      "chlorides 1.554268192766235\n",
      "free sulfur dioxide 0.3348833232370738\n",
      "total sulfur dioxide 1573.1849997763782\n",
      "density 0.0029298532652383864\n",
      "pH 0.3467455894107143\n",
      "alcohol 84.76640586655579\n"
     ]
    }
   ],
   "source": [
    "train_X = train[[\"fixed acidity\", \"volatile acidity\", \"citric acid\", \"residual sugar\", \"chlorides\", \"free sulfur dioxide\", \"total sulfur dioxide\", \"density\", \"pH\", \"alcohol\"]]\n",
    "label = train[\"label\"]\n",
    "train_all = SelectKBest(chi2, k = 10)\n",
    "train_all_fit = train_all.fit(train_X, label)\n",
    "col = train_X.columns\n",
    "for i in range(10):\n",
    "    print(col[i], train_all.scores_[i])\n",
    "train_new = SelectKBest(chi2, k = 8).fit_transform(train_X, label)"
   ]
  },
  {
   "cell_type": "code",
   "execution_count": 14,
   "id": "muslim-supplier",
   "metadata": {},
   "outputs": [],
   "source": [
    "s = StandardScaler()\n",
    "train_new_X = s.fit_transform(train_new)\n",
    "train_new_train_X, train_new_val_X, train_new_train_Y, train_new_val_Y = train_test_split(train_new_X, label, test_size = 0.2, random_state = 4211)"
   ]
  },
  {
   "cell_type": "code",
   "execution_count": 15,
   "id": "enhanced-chamber",
   "metadata": {},
   "outputs": [
    {
     "name": "stdout",
     "output_type": "stream",
     "text": [
      "Mean training time for step size = 0.1 is 0.0033\n",
      "Standard deviation for training time for step size = 0.1 is 0.0003\n",
      "Mean accuracy for step size = 0.1 is 0.8292\n",
      "Standard deviation for accuracy for step size = 0.1 is 0.0058\n",
      "Mean F1 score for step size = 0.1 is 0.7311\n",
      "Standard deviation for F1 score for step size = 0.1 is 0.0136\n",
      "Mean training time for step size = 0.01 is 0.0026\n",
      "Standard deviation for training time for step size = 0.01 is 0.0005\n",
      "Mean accuracy for step size = 0.01 is 0.8323\n",
      "Standard deviation for accuracy for step size = 0.01 is 0.0015\n",
      "Mean F1 score for step size = 0.01 is 0.7260\n",
      "Standard deviation for F1 score for step size = 0.01 is 0.0061\n",
      "Mean training time for step size = 0.001 is 0.0039\n",
      "Standard deviation for training time for step size = 0.001 is 0.0003\n",
      "Mean accuracy for step size = 0.001 is 0.8364\n",
      "Standard deviation for accuracy for step size = 0.001 is 0.0000\n",
      "Mean F1 score for step size = 0.001 is 0.7389\n",
      "Standard deviation for F1 score for step size = 0.001 is 0.0000\n",
      "Mean training time for step size = 0.0001 is 0.0076\n",
      "Standard deviation for training time for step size = 0.0001 is 0.0005\n",
      "Mean accuracy for step size = 0.0001 is 0.8117\n",
      "Standard deviation for accuracy for step size = 0.0001 is 0.0000\n",
      "Mean F1 score for step size = 0.0001 is 0.7081\n",
      "Standard deviation for F1 score for step size = 0.0001 is 0.0000\n"
     ]
    }
   ],
   "source": [
    "for step_size in [0.1, 0.01, 0.001, 0.0001]:\n",
    "    training_time = []\n",
    "    accuracy = []\n",
    "    f1score = []\n",
    "    for r_s in [3456, 4211, 5678]:\n",
    "        model = SGDClassifier(loss = \"log\", max_iter = 100, random_state = r_s, eta0 = step_size, learning_rate = \"constant\", verbose = 0)\n",
    "        start = time()\n",
    "        model.fit(train_new_train_X, train_new_train_Y)\n",
    "        end = time()\n",
    "        t_t = end - start\n",
    "        predict = model.predict(train_new_val_X)\n",
    "        a = accuracy_score(train_new_val_Y, predict)\n",
    "        f_s = f1_score(train_new_val_Y, predict)\n",
    "        training_time.append(t_t)\n",
    "        accuracy.append(a)\n",
    "        f1score.append(f_s)\n",
    "    mean_t_t = np.mean(training_time)\n",
    "    mean_a = np.mean(accuracy)\n",
    "    mean_f_s = np.mean(f1score)\n",
    "    sd_t_t = np.std(training_time)\n",
    "    sd_a = np.std(accuracy)\n",
    "    sd_f_s = np.std(f1score)\n",
    "    print(\"Mean training time for step size = \" + str(step_size) + \" is %.4f\" % mean_t_t)\n",
    "    print(\"Standard deviation for training time for step size = \" + str(step_size) + \" is %.4f\" % sd_t_t)\n",
    "    print(\"Mean accuracy for step size = \" + str(step_size) + \" is %.4f\" % mean_a)\n",
    "    print(\"Standard deviation for accuracy for step size = \" + str(step_size) + \" is %.4f\" % sd_a)\n",
    "    print(\"Mean F1 score for step size = \" + str(step_size) + \" is %.4f\" % mean_f_s)\n",
    "    print(\"Standard deviation for F1 score for step size = \" + str(step_size) + \" is %.4f\" % sd_f_s)"
   ]
  },
  {
   "cell_type": "code",
   "execution_count": 16,
   "id": "german-august",
   "metadata": {},
   "outputs": [
    {
     "data": {
      "text/plain": [
       "<sklearn.metrics._plot.roc_curve.RocCurveDisplay at 0x7ff7e632c7c0>"
      ]
     },
     "execution_count": 16,
     "metadata": {},
     "output_type": "execute_result"
    },
    {
     "data": {
      "image/png": "[encoded data removed]",
      "text/plain": [
       "<Figure size 432x288 with 1 Axes>"
      ]
     },
     "metadata": {
      "needs_background": "light"
     },
     "output_type": "display_data"
    }
   ],
   "source": [
    "model_best = SGDClassifier(loss = \"log\", max_iter = 100, eta0 = 0.001, random_state = 5678, learning_rate = \"constant\", verbose = 0)\n",
    "model_best.fit(train_new_train_X, train_new_train_Y)\n",
    "plot_roc_curve(model_best, train_new_val_X, train_new_val_Y)"
   ]
  },
  {
   "cell_type": "code",
   "execution_count": 17,
   "id": "blessed-surname",
   "metadata": {},
   "outputs": [
    {
     "data": {
      "text/plain": [
       "0.8861892002361597"
      ]
     },
     "execution_count": 17,
     "metadata": {},
     "output_type": "execute_result"
    }
   ],
   "source": [
    "predict_best = model_best.predict_proba(train_new_val_X)[:, 1]\n",
    "roc_auc_score(train_new_val_Y, predict_best)"
   ]
  },
  {
   "cell_type": "code",
   "execution_count": 18,
   "id": "virtual-respect",
   "metadata": {},
   "outputs": [
    {
     "name": "stdout",
     "output_type": "stream",
     "text": [
      "Mean training time for 1 hidden units is 0.03\n",
      "Standard deviation for training time for 1 hidden units is 0.00\n",
      "Mean accuracy for 1 hidden units is 0.57\n",
      "Standard deviation for accuracy for 1 hidden units is 0.19\n",
      "Mean F1 score for 1 hidden units is 0.15\n",
      "Standard deviation for F1 score for 1 hidden units is 0.22\n",
      "Mean training time for 2 hidden units is 0.09\n",
      "Standard deviation for training time for 2 hidden units is 0.05\n",
      "Mean accuracy for 2 hidden units is 0.45\n",
      "Standard deviation for accuracy for 2 hidden units is 0.11\n",
      "Mean F1 score for 2 hidden units is 0.50\n",
      "Standard deviation for F1 score for 2 hidden units is 0.04\n",
      "Mean training time for 4 hidden units is 0.08\n",
      "Standard deviation for training time for 4 hidden units is 0.04\n",
      "Mean accuracy for 4 hidden units is 0.58\n",
      "Standard deviation for accuracy for 4 hidden units is 0.21\n",
      "Mean F1 score for 4 hidden units is 0.57\n",
      "Standard deviation for F1 score for 4 hidden units is 0.08\n",
      "Mean training time for 8 hidden units is 0.12\n",
      "Standard deviation for training time for 8 hidden units is 0.03\n",
      "Mean accuracy for 8 hidden units is 0.84\n",
      "Standard deviation for accuracy for 8 hidden units is 0.00\n",
      "Mean F1 score for 8 hidden units is 0.74\n",
      "Standard deviation for F1 score for 8 hidden units is 0.01\n",
      "Mean training time for 16 hidden units is 0.11\n",
      "Standard deviation for training time for 16 hidden units is 0.02\n",
      "Mean accuracy for 16 hidden units is 0.83\n",
      "Standard deviation for accuracy for 16 hidden units is 0.01\n",
      "Mean F1 score for 16 hidden units is 0.72\n",
      "Standard deviation for F1 score for 16 hidden units is 0.01\n",
      "Mean training time for 32 hidden units is 0.10\n",
      "Standard deviation for training time for 32 hidden units is 0.01\n",
      "Mean accuracy for 32 hidden units is 0.84\n",
      "Standard deviation for accuracy for 32 hidden units is 0.01\n",
      "Mean F1 score for 32 hidden units is 0.73\n",
      "Standard deviation for F1 score for 32 hidden units is 0.01\n",
      "Mean training time for 64 hidden units is 0.09\n",
      "Standard deviation for training time for 64 hidden units is 0.02\n",
      "Mean accuracy for 64 hidden units is 0.83\n",
      "Standard deviation for accuracy for 64 hidden units is 0.01\n",
      "Mean F1 score for 64 hidden units is 0.71\n",
      "Standard deviation for F1 score for 64 hidden units is 0.02\n",
      "Mean training time for 128 hidden units is 0.09\n",
      "Standard deviation for training time for 128 hidden units is 0.01\n",
      "Mean accuracy for 128 hidden units is 0.85\n",
      "Standard deviation for accuracy for 128 hidden units is 0.01\n",
      "Mean F1 score for 128 hidden units is 0.74\n",
      "Standard deviation for F1 score for 128 hidden units is 0.03\n"
     ]
    }
   ],
   "source": [
    "H = [1, 2, 4, 8, 16, 32, 64, 128]\n",
    "training_time_different = []\n",
    "m_accuracy_different = []\n",
    "m_f1score_different = []\n",
    "s_accuracy_different = []\n",
    "s_f1score_different = []\n",
    "for num_of_units in H:\n",
    "    training_time = []\n",
    "    m_accuracy = []\n",
    "    m_f1score = []\n",
    "    for r_s in [345, 4211, 57]:\n",
    "        mlp = MLPClassifier(hidden_layer_sizes = (num_of_units, ), random_state = r_s, max_iter = 500, early_stopping = True)\n",
    "        start = time()\n",
    "        mlp.fit(train_new_train_X, train_new_train_Y)\n",
    "        end = time()\n",
    "        t_t = end - start\n",
    "        predict = mlp.predict(train_new_val_X)\n",
    "        a = accuracy_score(train_new_val_Y, predict)\n",
    "        f_s = f1_score(train_new_val_Y, predict)\n",
    "        training_time.append(t_t)\n",
    "        m_accuracy.append(a)\n",
    "        m_f1score.append(f_s)\n",
    "    mean_t_t = np.mean(training_time)\n",
    "    mean_a = np.mean(m_accuracy)\n",
    "    mean_f_s = np.mean(m_f1score)\n",
    "    sd_t_t = np.std(training_time)\n",
    "    sd_a = np.std(m_accuracy)\n",
    "    sd_f_s = np.std(m_f1score)\n",
    "    print(\"Mean training time for \" + str(num_of_units) + \" hidden units is %.2f\" % mean_t_t)\n",
    "    print(\"Standard deviation for training time for \" + str(num_of_units) + \" hidden units is %.2f\" % sd_t_t)\n",
    "    print(\"Mean accuracy for \" + str(num_of_units) + \" hidden units is %.2f\" % mean_a)\n",
    "    print(\"Standard deviation for accuracy for \" + str(num_of_units) + \" hidden units is %.2f\" % sd_a)\n",
    "    print(\"Mean F1 score for \" + str(num_of_units) + \" hidden units is %.2f\" % mean_f_s)\n",
    "    print(\"Standard deviation for F1 score for \" + str(num_of_units) + \" hidden units is %.2f\" % sd_f_s)\n",
    "    training_time_different.append(mean_t_t)\n",
    "    m_accuracy_different.append(mean_a)\n",
    "    m_f1score_different.append(mean_f_s)\n",
    "    s_accuracy_different.append(sd_a)\n",
    "    s_f1score_different.append(sd_f_s)"
   ]
  },
  {
   "cell_type": "code",
   "execution_count": 19,
   "id": "mental-multimedia",
   "metadata": {},
   "outputs": [
    {
     "data": {
      "text/plain": [
       "<matplotlib.legend.Legend at 0x7ff7dfed4340>"
      ]
     },
     "execution_count": 19,
     "metadata": {},
     "output_type": "execute_result"
    },
    {
     "data": {
      "image/png": "[encoded data removed]",
      "text/plain": [
       "<Figure size 432x288 with 1 Axes>"
      ]
     },
     "metadata": {
      "needs_background": "light"
     },
     "output_type": "display_data"
    }
   ],
   "source": [
    "plt.errorbar(H, m_accuracy_different, yerr = s_accuracy_different, label = \"accuracy\")\n",
    "plt.errorbar(H, m_f1score_different, yerr = s_f1score_different, label = \"F1 score\")\n",
    "plt.title(\"Accuracy/F1 score for different number of units\")\n",
    "plt.xlabel(\"Number of hidden units\")\n",
    "plt.ylabel(\"Accuracy/F1 score\")\n",
    "plt.legend()"
   ]
  },
  {
   "cell_type": "code",
   "execution_count": 20,
   "id": "elegant-rochester",
   "metadata": {},
   "outputs": [],
   "source": [
    "test_new = test[[\"fixed acidity\", \"volatile acidity\", \"residual sugar\", \"chlorides\", \"free sulfur dioxide\", \"total sulfur dioxide\", \"pH\", \"alcohol\"]]\n",
    "test_label = test[\"label\"]\n",
    "test_new_X = s.fit_transform(test_new)\n",
    "test_new_train_X, test_new_val_X, test_new_train_Y, test_new_val_Y = train_test_split(test_new_X, test_label, test_size = 0.2, random_state = 4211)"
   ]
  },
  {
   "cell_type": "code",
   "execution_count": 21,
   "id": "eastern-disposal",
   "metadata": {},
   "outputs": [
    {
     "name": "stdout",
     "output_type": "stream",
     "text": [
      "Fitting 5 folds for each of 12 candidates, totalling 60 fits\n",
      "[CV 1/5] END activation=logistic, early_stopping=True, learning_rate_init=0.1, max_iter=500, random_state=4211, solver=sgd; total time=   0.2s\n",
      "[CV 2/5] END activation=logistic, early_stopping=True, learning_rate_init=0.1, max_iter=500, random_state=4211, solver=sgd; total time=   0.2s\n",
      "[CV 3/5] END activation=logistic, early_stopping=True, learning_rate_init=0.1, max_iter=500, random_state=4211, solver=sgd; total time=   0.1s\n",
      "[CV 4/5] END activation=logistic, early_stopping=True, learning_rate_init=0.1, max_iter=500, random_state=4211, solver=sgd; total time=   0.1s\n",
      "[CV 5/5] END activation=logistic, early_stopping=True, learning_rate_init=0.1, max_iter=500, random_state=4211, solver=sgd; total time=   0.1s\n",
      "[CV 1/5] END activation=logistic, early_stopping=True, learning_rate_init=0.1, max_iter=500, random_state=4211, solver=adam; total time=   0.1s\n",
      "[CV 2/5] END activation=logistic, early_stopping=True, learning_rate_init=0.1, max_iter=500, random_state=4211, solver=adam; total time=   0.1s\n",
      "[CV 3/5] END activation=logistic, early_stopping=True, learning_rate_init=0.1, max_iter=500, random_state=4211, solver=adam; total time=   0.1s\n",
      "[CV 4/5] END activation=logistic, early_stopping=True, learning_rate_init=0.1, max_iter=500, random_state=4211, solver=adam; total time=   0.1s\n",
      "[CV 5/5] END activation=logistic, early_stopping=True, learning_rate_init=0.1, max_iter=500, random_state=4211, solver=adam; total time=   0.1s\n",
      "[CV 1/5] END activation=logistic, early_stopping=True, learning_rate_init=0.01, max_iter=500, random_state=4211, solver=sgd; total time=   0.0s\n",
      "[CV 2/5] END activation=logistic, early_stopping=True, learning_rate_init=0.01, max_iter=500, random_state=4211, solver=sgd; total time=   0.1s\n",
      "[CV 3/5] END activation=logistic, early_stopping=True, learning_rate_init=0.01, max_iter=500, random_state=4211, solver=sgd; total time=   0.1s\n",
      "[CV 4/5] END activation=logistic, early_stopping=True, learning_rate_init=0.01, max_iter=500, random_state=4211, solver=sgd; total time=   0.1s\n",
      "[CV 5/5] END activation=logistic, early_stopping=True, learning_rate_init=0.01, max_iter=500, random_state=4211, solver=sgd; total time=   0.1s\n",
      "[CV 1/5] END activation=logistic, early_stopping=True, learning_rate_init=0.01, max_iter=500, random_state=4211, solver=adam; total time=   0.1s\n",
      "[CV 2/5] END activation=logistic, early_stopping=True, learning_rate_init=0.01, max_iter=500, random_state=4211, solver=adam; total time=   0.1s\n",
      "[CV 3/5] END activation=logistic, early_stopping=True, learning_rate_init=0.01, max_iter=500, random_state=4211, solver=adam; total time=   0.1s\n",
      "[CV 4/5] END activation=logistic, early_stopping=True, learning_rate_init=0.01, max_iter=500, random_state=4211, solver=adam; total time=   0.1s\n",
      "[CV 5/5] END activation=logistic, early_stopping=True, learning_rate_init=0.01, max_iter=500, random_state=4211, solver=adam; total time=   0.1s\n",
      "[CV 1/5] END activation=tanh, early_stopping=True, learning_rate_init=0.1, max_iter=500, random_state=4211, solver=sgd; total time=   0.1s\n",
      "[CV 2/5] END activation=tanh, early_stopping=True, learning_rate_init=0.1, max_iter=500, random_state=4211, solver=sgd; total time=   0.1s\n",
      "[CV 3/5] END activation=tanh, early_stopping=True, learning_rate_init=0.1, max_iter=500, random_state=4211, solver=sgd; total time=   0.1s\n",
      "[CV 4/5] END activation=tanh, early_stopping=True, learning_rate_init=0.1, max_iter=500, random_state=4211, solver=sgd; total time=   0.1s\n",
      "[CV 5/5] END activation=tanh, early_stopping=True, learning_rate_init=0.1, max_iter=500, random_state=4211, solver=sgd; total time=   0.1s\n",
      "[CV 1/5] END activation=tanh, early_stopping=True, learning_rate_init=0.1, max_iter=500, random_state=4211, solver=adam; total time=   0.1s\n",
      "[CV 2/5] END activation=tanh, early_stopping=True, learning_rate_init=0.1, max_iter=500, random_state=4211, solver=adam; total time=   0.1s\n",
      "[CV 3/5] END activation=tanh, early_stopping=True, learning_rate_init=0.1, max_iter=500, random_state=4211, solver=adam; total time=   0.1s\n",
      "[CV 4/5] END activation=tanh, early_stopping=True, learning_rate_init=0.1, max_iter=500, random_state=4211, solver=adam; total time=   0.1s\n",
      "[CV 5/5] END activation=tanh, early_stopping=True, learning_rate_init=0.1, max_iter=500, random_state=4211, solver=adam; total time=   0.1s\n",
      "[CV 1/5] END activation=tanh, early_stopping=True, learning_rate_init=0.01, max_iter=500, random_state=4211, solver=sgd; total time=   0.0s\n",
      "[CV 2/5] END activation=tanh, early_stopping=True, learning_rate_init=0.01, max_iter=500, random_state=4211, solver=sgd; total time=   0.1s\n",
      "[CV 3/5] END activation=tanh, early_stopping=True, learning_rate_init=0.01, max_iter=500, random_state=4211, solver=sgd; total time=   0.1s\n",
      "[CV 4/5] END activation=tanh, early_stopping=True, learning_rate_init=0.01, max_iter=500, random_state=4211, solver=sgd; total time=   0.1s\n",
      "[CV 5/5] END activation=tanh, early_stopping=True, learning_rate_init=0.01, max_iter=500, random_state=4211, solver=sgd; total time=   0.1s\n",
      "[CV 1/5] END activation=tanh, early_stopping=True, learning_rate_init=0.01, max_iter=500, random_state=4211, solver=adam; total time=   0.2s\n",
      "[CV 2/5] END activation=tanh, early_stopping=True, learning_rate_init=0.01, max_iter=500, random_state=4211, solver=adam; total time=   0.1s\n",
      "[CV 3/5] END activation=tanh, early_stopping=True, learning_rate_init=0.01, max_iter=500, random_state=4211, solver=adam; total time=   0.1s\n",
      "[CV 4/5] END activation=tanh, early_stopping=True, learning_rate_init=0.01, max_iter=500, random_state=4211, solver=adam; total time=   0.1s\n",
      "[CV 5/5] END activation=tanh, early_stopping=True, learning_rate_init=0.01, max_iter=500, random_state=4211, solver=adam; total time=   0.2s\n",
      "[CV 1/5] END activation=relu, early_stopping=True, learning_rate_init=0.1, max_iter=500, random_state=4211, solver=sgd; total time=   0.1s\n",
      "[CV 2/5] END activation=relu, early_stopping=True, learning_rate_init=0.1, max_iter=500, random_state=4211, solver=sgd; total time=   0.1s\n",
      "[CV 3/5] END activation=relu, early_stopping=True, learning_rate_init=0.1, max_iter=500, random_state=4211, solver=sgd; total time=   0.1s\n",
      "[CV 4/5] END activation=relu, early_stopping=True, learning_rate_init=0.1, max_iter=500, random_state=4211, solver=sgd; total time=   0.1s\n",
      "[CV 5/5] END activation=relu, early_stopping=True, learning_rate_init=0.1, max_iter=500, random_state=4211, solver=sgd; total time=   0.1s\n",
      "[CV 1/5] END activation=relu, early_stopping=True, learning_rate_init=0.1, max_iter=500, random_state=4211, solver=adam; total time=   0.1s\n",
      "[CV 2/5] END activation=relu, early_stopping=True, learning_rate_init=0.1, max_iter=500, random_state=4211, solver=adam; total time=   0.0s\n",
      "[CV 3/5] END activation=relu, early_stopping=True, learning_rate_init=0.1, max_iter=500, random_state=4211, solver=adam; total time=   0.0s\n",
      "[CV 4/5] END activation=relu, early_stopping=True, learning_rate_init=0.1, max_iter=500, random_state=4211, solver=adam; total time=   0.0s\n",
      "[CV 5/5] END activation=relu, early_stopping=True, learning_rate_init=0.1, max_iter=500, random_state=4211, solver=adam; total time=   0.0s\n",
      "[CV 1/5] END activation=relu, early_stopping=True, learning_rate_init=0.01, max_iter=500, random_state=4211, solver=sgd; total time=   0.1s\n",
      "[CV 2/5] END activation=relu, early_stopping=True, learning_rate_init=0.01, max_iter=500, random_state=4211, solver=sgd; total time=   0.1s\n",
      "[CV 3/5] END activation=relu, early_stopping=True, learning_rate_init=0.01, max_iter=500, random_state=4211, solver=sgd; total time=   0.1s\n",
      "[CV 4/5] END activation=relu, early_stopping=True, learning_rate_init=0.01, max_iter=500, random_state=4211, solver=sgd; total time=   0.1s\n",
      "[CV 5/5] END activation=relu, early_stopping=True, learning_rate_init=0.01, max_iter=500, random_state=4211, solver=sgd; total time=   0.1s\n",
      "[CV 1/5] END activation=relu, early_stopping=True, learning_rate_init=0.01, max_iter=500, random_state=4211, solver=adam; total time=   0.1s\n",
      "[CV 2/5] END activation=relu, early_stopping=True, learning_rate_init=0.01, max_iter=500, random_state=4211, solver=adam; total time=   0.1s\n",
      "[CV 3/5] END activation=relu, early_stopping=True, learning_rate_init=0.01, max_iter=500, random_state=4211, solver=adam; total time=   0.1s\n",
      "[CV 4/5] END activation=relu, early_stopping=True, learning_rate_init=0.01, max_iter=500, random_state=4211, solver=adam; total time=   0.1s\n",
      "[CV 5/5] END activation=relu, early_stopping=True, learning_rate_init=0.01, max_iter=500, random_state=4211, solver=adam; total time=   0.1s\n"
     ]
    },
    {
     "data": {
      "text/plain": [
       "GridSearchCV(cv=5, estimator=MLPClassifier(),\n",
       "             param_grid={'activation': ['logistic', 'tanh', 'relu'],\n",
       "                         'early_stopping': [True],\n",
       "                         'learning_rate_init': [0.1, 0.01], 'max_iter': [500],\n",
       "                         'random_state': [4211], 'solver': ['sgd', 'adam']},\n",
       "             verbose=3)"
      ]
     },
     "execution_count": 21,
     "metadata": {},
     "output_type": "execute_result"
    }
   ],
   "source": [
    "params = {\"activation\": [\"logistic\", \"tanh\", \"relu\"],\n",
    "          \"solver\": [\"sgd\", \"adam\"],\n",
    "          \"learning_rate_init\": [0.1, 0.01],\n",
    "          \"random_state\": [4211],\n",
    "          \"max_iter\": [500],\n",
    "          \"early_stopping\": [True]\n",
    "          }\n",
    "mlp = MLPClassifier()\n",
    "grid_search = GridSearchCV(mlp, param_grid = params, cv = 5, verbose = 3)\n",
    "grid_search.fit(train_new_train_X, train_new_train_Y)"
   ]
  },
  {
   "cell_type": "code",
   "execution_count": 22,
   "id": "temporal-bunch",
   "metadata": {},
   "outputs": [],
   "source": [
    "def report(results, n_top = 3):\n",
    "    for i in range(1, n_top + 1):\n",
    "        candidates = np.flatnonzero(results[\"rank_test_score\"] == i)\n",
    "        for candidate in candidates:\n",
    "            print(\"Model with rank: {0}\".format(i))\n",
    "            print(\"Mean validation score: {0:.3f} (std: {1:.3f})\"\n",
    "                  .format(results[\"mean_test_score\"][candidate],\n",
    "                          results[\"std_test_score\"][candidate]))\n",
    "            print(\"Parameters: {0}\".format(results['params'][candidate]))\n",
    "            print(\"\")"
   ]
  },
  {
   "cell_type": "code",
   "execution_count": 23,
   "id": "opposite-characteristic",
   "metadata": {},
   "outputs": [
    {
     "name": "stdout",
     "output_type": "stream",
     "text": [
      "Model with rank: 1\n",
      "Mean validation score: 0.854 (std: 0.028)\n",
      "Parameters: {'activation': 'relu', 'early_stopping': True, 'learning_rate_init': 0.1, 'max_iter': 500, 'random_state': 4211, 'solver': 'sgd'}\n",
      "\n",
      "Model with rank: 2\n",
      "Mean validation score: 0.850 (std: 0.022)\n",
      "Parameters: {'activation': 'relu', 'early_stopping': True, 'learning_rate_init': 0.01, 'max_iter': 500, 'random_state': 4211, 'solver': 'adam'}\n",
      "\n",
      "Model with rank: 3\n",
      "Mean validation score: 0.846 (std: 0.026)\n",
      "Parameters: {'activation': 'logistic', 'early_stopping': True, 'learning_rate_init': 0.1, 'max_iter': 500, 'random_state': 4211, 'solver': 'adam'}\n",
      "\n"
     ]
    }
   ],
   "source": [
    "report(grid_search.cv_results_)"
   ]
  },
  {
   "cell_type": "code",
   "execution_count": 24,
   "id": "psychological-edgar",
   "metadata": {},
   "outputs": [
    {
     "name": "stdout",
     "output_type": "stream",
     "text": [
      "0.8575\n",
      "0.7896678966789668\n"
     ]
    }
   ],
   "source": [
    "model_best = MLPClassifier(activation = \"relu\", solver = \"sgd\", early_stopping = True, learning_rate_init = 0.1, max_iter = 500, random_state = 4211)\n",
    "model_best.fit(train_new_train_X, train_new_train_Y)\n",
    "predict = model_best.predict(test_new_X)\n",
    "t_accuracy = accuracy_score(test_label, predict)\n",
    "t_f1score = f1_score(test_label, predict)\n",
    "print(t_accuracy)\n",
    "print(t_f1score)"
   ]
  },
  {
   "cell_type": "code",
   "execution_count": 25,
   "id": "reasonable-vermont",
   "metadata": {},
   "outputs": [
    {
     "data": {
      "text/plain": [
       "<sklearn.metrics._plot.confusion_matrix.ConfusionMatrixDisplay at 0x7ff7e5b817c0>"
      ]
     },
     "execution_count": 25,
     "metadata": {},
     "output_type": "execute_result"
    },
    {
     "data": {
      "image/png": "[encoded data removed]",
      "text/plain": [
       "<Figure size 432x288 with 2 Axes>"
      ]
     },
     "metadata": {
      "needs_background": "light"
     },
     "output_type": "display_data"
    }
   ],
   "source": [
    "plot_confusion_matrix(model_best, test_new_X, test_label)"
   ]
  },
  {
   "cell_type": "code",
   "execution_count": 26,
   "id": "southern-innocent",
   "metadata": {},
   "outputs": [],
   "source": [
    "count_class_0, count_class_1 = train[\"label\"].value_counts()\n",
    "train_class_0 = train[train[\"label\"] == 0]\n",
    "train_class_1 = train[train[\"label\"] == 1]\n",
    "train_class_1_over = train_class_1.sample(count_class_0, random_state = 4211, replace=True)\n",
    "train_test_over = pd.concat([train_class_0, train_class_1_over], axis=0)"
   ]
  },
  {
   "cell_type": "code",
   "execution_count": 27,
   "id": "helpful-optics",
   "metadata": {},
   "outputs": [
    {
     "name": "stdout",
     "output_type": "stream",
     "text": [
      "Fitting 5 folds for each of 12 candidates, totalling 60 fits\n",
      "[CV 1/5] END activation=logistic, early_stopping=True, learning_rate_init=0.1, max_iter=500, random_state=4211, solver=sgd; total time=   0.1s\n",
      "[CV 2/5] END activation=logistic, early_stopping=True, learning_rate_init=0.1, max_iter=500, random_state=4211, solver=sgd; total time=   0.1s\n",
      "[CV 3/5] END activation=logistic, early_stopping=True, learning_rate_init=0.1, max_iter=500, random_state=4211, solver=sgd; total time=   0.1s\n",
      "[CV 4/5] END activation=logistic, early_stopping=True, learning_rate_init=0.1, max_iter=500, random_state=4211, solver=sgd; total time=   0.1s\n",
      "[CV 5/5] END activation=logistic, early_stopping=True, learning_rate_init=0.1, max_iter=500, random_state=4211, solver=sgd; total time=   0.1s\n",
      "[CV 1/5] END activation=logistic, early_stopping=True, learning_rate_init=0.1, max_iter=500, random_state=4211, solver=adam; total time=   0.3s\n",
      "[CV 2/5] END activation=logistic, early_stopping=True, learning_rate_init=0.1, max_iter=500, random_state=4211, solver=adam; total time=   0.1s\n",
      "[CV 3/5] END activation=logistic, early_stopping=True, learning_rate_init=0.1, max_iter=500, random_state=4211, solver=adam; total time=   0.2s\n",
      "[CV 4/5] END activation=logistic, early_stopping=True, learning_rate_init=0.1, max_iter=500, random_state=4211, solver=adam; total time=   0.2s\n",
      "[CV 5/5] END activation=logistic, early_stopping=True, learning_rate_init=0.1, max_iter=500, random_state=4211, solver=adam; total time=   0.2s\n",
      "[CV 1/5] END activation=logistic, early_stopping=True, learning_rate_init=0.01, max_iter=500, random_state=4211, solver=sgd; total time=   0.1s\n",
      "[CV 2/5] END activation=logistic, early_stopping=True, learning_rate_init=0.01, max_iter=500, random_state=4211, solver=sgd; total time=   0.1s\n",
      "[CV 3/5] END activation=logistic, early_stopping=True, learning_rate_init=0.01, max_iter=500, random_state=4211, solver=sgd; total time=   0.2s\n",
      "[CV 4/5] END activation=logistic, early_stopping=True, learning_rate_init=0.01, max_iter=500, random_state=4211, solver=sgd; total time=   0.1s\n",
      "[CV 5/5] END activation=logistic, early_stopping=True, learning_rate_init=0.01, max_iter=500, random_state=4211, solver=sgd; total time=   0.1s\n",
      "[CV 1/5] END activation=logistic, early_stopping=True, learning_rate_init=0.01, max_iter=500, random_state=4211, solver=adam; total time=   0.1s\n",
      "[CV 2/5] END activation=logistic, early_stopping=True, learning_rate_init=0.01, max_iter=500, random_state=4211, solver=adam; total time=   0.1s\n",
      "[CV 3/5] END activation=logistic, early_stopping=True, learning_rate_init=0.01, max_iter=500, random_state=4211, solver=adam; total time=   0.1s\n",
      "[CV 4/5] END activation=logistic, early_stopping=True, learning_rate_init=0.01, max_iter=500, random_state=4211, solver=adam; total time=   0.1s\n",
      "[CV 5/5] END activation=logistic, early_stopping=True, learning_rate_init=0.01, max_iter=500, random_state=4211, solver=adam; total time=   0.1s\n",
      "[CV 1/5] END activation=tanh, early_stopping=True, learning_rate_init=0.1, max_iter=500, random_state=4211, solver=sgd; total time=   0.1s\n",
      "[CV 2/5] END activation=tanh, early_stopping=True, learning_rate_init=0.1, max_iter=500, random_state=4211, solver=sgd; total time=   0.2s\n",
      "[CV 3/5] END activation=tanh, early_stopping=True, learning_rate_init=0.1, max_iter=500, random_state=4211, solver=sgd; total time=   0.1s\n",
      "[CV 4/5] END activation=tanh, early_stopping=True, learning_rate_init=0.1, max_iter=500, random_state=4211, solver=sgd; total time=   0.1s\n",
      "[CV 5/5] END activation=tanh, early_stopping=True, learning_rate_init=0.1, max_iter=500, random_state=4211, solver=sgd; total time=   0.2s\n",
      "[CV 1/5] END activation=tanh, early_stopping=True, learning_rate_init=0.1, max_iter=500, random_state=4211, solver=adam; total time=   0.2s\n",
      "[CV 2/5] END activation=tanh, early_stopping=True, learning_rate_init=0.1, max_iter=500, random_state=4211, solver=adam; total time=   0.1s\n",
      "[CV 3/5] END activation=tanh, early_stopping=True, learning_rate_init=0.1, max_iter=500, random_state=4211, solver=adam; total time=   0.2s\n",
      "[CV 4/5] END activation=tanh, early_stopping=True, learning_rate_init=0.1, max_iter=500, random_state=4211, solver=adam; total time=   0.2s\n",
      "[CV 5/5] END activation=tanh, early_stopping=True, learning_rate_init=0.1, max_iter=500, random_state=4211, solver=adam; total time=   0.2s\n",
      "[CV 1/5] END activation=tanh, early_stopping=True, learning_rate_init=0.01, max_iter=500, random_state=4211, solver=sgd; total time=   0.1s\n",
      "[CV 2/5] END activation=tanh, early_stopping=True, learning_rate_init=0.01, max_iter=500, random_state=4211, solver=sgd; total time=   0.1s\n",
      "[CV 3/5] END activation=tanh, early_stopping=True, learning_rate_init=0.01, max_iter=500, random_state=4211, solver=sgd; total time=   0.1s\n",
      "[CV 4/5] END activation=tanh, early_stopping=True, learning_rate_init=0.01, max_iter=500, random_state=4211, solver=sgd; total time=   0.1s\n",
      "[CV 5/5] END activation=tanh, early_stopping=True, learning_rate_init=0.01, max_iter=500, random_state=4211, solver=sgd; total time=   0.1s\n",
      "[CV 1/5] END activation=tanh, early_stopping=True, learning_rate_init=0.01, max_iter=500, random_state=4211, solver=adam; total time=   0.1s\n",
      "[CV 2/5] END activation=tanh, early_stopping=True, learning_rate_init=0.01, max_iter=500, random_state=4211, solver=adam; total time=   0.2s\n",
      "[CV 3/5] END activation=tanh, early_stopping=True, learning_rate_init=0.01, max_iter=500, random_state=4211, solver=adam; total time=   0.2s\n",
      "[CV 4/5] END activation=tanh, early_stopping=True, learning_rate_init=0.01, max_iter=500, random_state=4211, solver=adam; total time=   0.3s\n",
      "[CV 5/5] END activation=tanh, early_stopping=True, learning_rate_init=0.01, max_iter=500, random_state=4211, solver=adam; total time=   0.2s\n",
      "[CV 1/5] END activation=relu, early_stopping=True, learning_rate_init=0.1, max_iter=500, random_state=4211, solver=sgd; total time=   0.1s\n",
      "[CV 2/5] END activation=relu, early_stopping=True, learning_rate_init=0.1, max_iter=500, random_state=4211, solver=sgd; total time=   0.2s\n",
      "[CV 3/5] END activation=relu, early_stopping=True, learning_rate_init=0.1, max_iter=500, random_state=4211, solver=sgd; total time=   0.1s\n",
      "[CV 4/5] END activation=relu, early_stopping=True, learning_rate_init=0.1, max_iter=500, random_state=4211, solver=sgd; total time=   0.1s\n",
      "[CV 5/5] END activation=relu, early_stopping=True, learning_rate_init=0.1, max_iter=500, random_state=4211, solver=sgd; total time=   0.2s\n",
      "[CV 1/5] END activation=relu, early_stopping=True, learning_rate_init=0.1, max_iter=500, random_state=4211, solver=adam; total time=   0.1s\n",
      "[CV 2/5] END activation=relu, early_stopping=True, learning_rate_init=0.1, max_iter=500, random_state=4211, solver=adam; total time=   0.2s\n",
      "[CV 3/5] END activation=relu, early_stopping=True, learning_rate_init=0.1, max_iter=500, random_state=4211, solver=adam; total time=   0.1s\n",
      "[CV 4/5] END activation=relu, early_stopping=True, learning_rate_init=0.1, max_iter=500, random_state=4211, solver=adam; total time=   0.1s\n",
      "[CV 5/5] END activation=relu, early_stopping=True, learning_rate_init=0.1, max_iter=500, random_state=4211, solver=adam; total time=   0.1s\n",
      "[CV 1/5] END activation=relu, early_stopping=True, learning_rate_init=0.01, max_iter=500, random_state=4211, solver=sgd; total time=   0.2s\n",
      "[CV 2/5] END activation=relu, early_stopping=True, learning_rate_init=0.01, max_iter=500, random_state=4211, solver=sgd; total time=   0.2s\n",
      "[CV 3/5] END activation=relu, early_stopping=True, learning_rate_init=0.01, max_iter=500, random_state=4211, solver=sgd; total time=   0.1s\n",
      "[CV 4/5] END activation=relu, early_stopping=True, learning_rate_init=0.01, max_iter=500, random_state=4211, solver=sgd; total time=   0.2s\n",
      "[CV 5/5] END activation=relu, early_stopping=True, learning_rate_init=0.01, max_iter=500, random_state=4211, solver=sgd; total time=   0.2s\n",
      "[CV 1/5] END activation=relu, early_stopping=True, learning_rate_init=0.01, max_iter=500, random_state=4211, solver=adam; total time=   0.2s\n",
      "[CV 2/5] END activation=relu, early_stopping=True, learning_rate_init=0.01, max_iter=500, random_state=4211, solver=adam; total time=   0.1s\n",
      "[CV 3/5] END activation=relu, early_stopping=True, learning_rate_init=0.01, max_iter=500, random_state=4211, solver=adam; total time=   0.1s\n",
      "[CV 4/5] END activation=relu, early_stopping=True, learning_rate_init=0.01, max_iter=500, random_state=4211, solver=adam; total time=   0.1s\n",
      "[CV 5/5] END activation=relu, early_stopping=True, learning_rate_init=0.01, max_iter=500, random_state=4211, solver=adam; total time=   0.2s\n"
     ]
    },
    {
     "data": {
      "text/plain": [
       "GridSearchCV(cv=5, estimator=MLPClassifier(),\n",
       "             param_grid={'activation': ['logistic', 'tanh', 'relu'],\n",
       "                         'early_stopping': [True],\n",
       "                         'learning_rate_init': [0.1, 0.01], 'max_iter': [500],\n",
       "                         'random_state': [4211], 'solver': ['sgd', 'adam']},\n",
       "             verbose=3)"
      ]
     },
     "execution_count": 27,
     "metadata": {},
     "output_type": "execute_result"
    }
   ],
   "source": [
    "train_test_over_X = train_test_over[[\"fixed acidity\", \"volatile acidity\", \"residual sugar\", \"chlorides\", \"free sulfur dioxide\", \"total sulfur dioxide\", \"pH\", \"alcohol\"]]\n",
    "train_test_over_Y = train_test_over[\"label\"]\n",
    "train_over_X = s.fit_transform(train_test_over_X)\n",
    "params = {\"activation\": [\"logistic\", \"tanh\", \"relu\"],\n",
    "          \"solver\": [\"sgd\", \"adam\"],\n",
    "          \"learning_rate_init\": [0.1, 0.01],\n",
    "          \"random_state\": [4211],\n",
    "          \"max_iter\": [500],\n",
    "          \"early_stopping\": [True]\n",
    "          }\n",
    "mlp = MLPClassifier()\n",
    "grid_search_2 = GridSearchCV(mlp, param_grid = params, cv = 5, verbose = 3)\n",
    "grid_search_2.fit(train_over_X, train_test_over_Y)"
   ]
  },
  {
   "cell_type": "code",
   "execution_count": 28,
   "id": "divine-coalition",
   "metadata": {},
   "outputs": [
    {
     "name": "stdout",
     "output_type": "stream",
     "text": [
      "Model with rank: 1\n",
      "Mean validation score: 0.863 (std: 0.039)\n",
      "Parameters: {'activation': 'relu', 'early_stopping': True, 'learning_rate_init': 0.01, 'max_iter': 500, 'random_state': 4211, 'solver': 'adam'}\n",
      "\n",
      "Model with rank: 2\n",
      "Mean validation score: 0.858 (std: 0.032)\n",
      "Parameters: {'activation': 'relu', 'early_stopping': True, 'learning_rate_init': 0.1, 'max_iter': 500, 'random_state': 4211, 'solver': 'adam'}\n",
      "\n",
      "Model with rank: 3\n",
      "Mean validation score: 0.857 (std: 0.021)\n",
      "Parameters: {'activation': 'tanh', 'early_stopping': True, 'learning_rate_init': 0.1, 'max_iter': 500, 'random_state': 4211, 'solver': 'adam'}\n",
      "\n"
     ]
    }
   ],
   "source": [
    "report(grid_search_2.cv_results_)"
   ]
  },
  {
   "cell_type": "code",
   "execution_count": 29,
   "id": "static-excerpt",
   "metadata": {},
   "outputs": [
    {
     "name": "stdout",
     "output_type": "stream",
     "text": [
      "0.8425\n",
      "0.7987220447284346\n"
     ]
    }
   ],
   "source": [
    "model_best = MLPClassifier(activation = \"relu\", solver = \"adam\", early_stopping = True, learning_rate_init = 0.01, max_iter = 500, random_state = 4211)\n",
    "model_best.fit(train_over_X, train_test_over_Y)\n",
    "predict = model_best.predict(test_new_X)\n",
    "t_accuracy = accuracy_score(test_label, predict)\n",
    "t_f1score = f1_score(test_label, predict)\n",
    "print(t_accuracy)\n",
    "print(t_f1score)"
   ]
  },
  {
   "cell_type": "code",
   "execution_count": 30,
   "id": "leading-lindsay",
   "metadata": {},
   "outputs": [
    {
     "data": {
      "text/plain": [
       "<sklearn.metrics._plot.confusion_matrix.ConfusionMatrixDisplay at 0x7ff7dfed7d30>"
      ]
     },
     "execution_count": 30,
     "metadata": {},
     "output_type": "execute_result"
    },
    {
     "data": {
      "image/png": "[encoded data removed]",
      "text/plain": [
       "<Figure size 432x288 with 2 Axes>"
      ]
     },
     "metadata": {
      "needs_background": "light"
     },
     "output_type": "display_data"
    }
   ],
   "source": [
    "plot_confusion_matrix(model_best, test_new_X, test_label)"
   ]
  }
 ],
 "metadata": {
  "kernelspec": {
   "display_name": "Python 3",
   "language": "python",
   "name": "python3"
  },
  "language_info": {
   "codemirror_mode": {
    "name": "ipython",
    "version": 3
   },
   "file_extension": ".py",
   "mimetype": "text/x-python",
   "name": "python",
   "nbconvert_exporter": "python",
   "pygments_lexer": "ipython3",
   "version": "3.9.1"
  }
 },
 "nbformat": 4,
 "nbformat_minor": 5
}
